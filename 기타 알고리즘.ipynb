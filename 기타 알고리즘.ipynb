{
  "cells": [
    {
      "cell_type": "markdown",
      "metadata": {
        "id": "view-in-github",
        "colab_type": "text"
      },
      "source": [
        "<a href=\"https://colab.research.google.com/github/combont/Rproject/blob/master/%EA%B8%B0%ED%83%80%20%EC%95%8C%EA%B3%A0%EB%A6%AC%EC%A6%98.ipynb\" target=\"_parent\"><img src=\"https://colab.research.google.com/assets/colab-badge.svg\" alt=\"Open In Colab\"/></a>"
      ]
    },
    {
      "cell_type": "code",
      "source": [
        "# 소수 판별\n",
        "def is_prime_number(x):\n",
        "  for i in range(2,x):\n",
        "    if x % i == 0:\n",
        "      return False\n",
        "  return True\n",
        "  "
      ],
      "metadata": {
        "id": "t4IWlynbT7sD"
      },
      "execution_count": null,
      "outputs": []
    },
    {
      "cell_type": "code",
      "source": [
        "# 소수 판별을 위해서는 제곱근까지면 나누어 떨어지는지 확인하면 됨\n",
        "import math\n",
        "\n",
        "def is_prime_number(x):\n",
        "  for i in range(2, int(math.sqrt(x))+1):\n",
        "    if x % i == 0:\n",
        "      return False\n",
        "  return True"
      ],
      "metadata": {
        "id": "7gTZUfycT7uk"
      },
      "execution_count": null,
      "outputs": []
    },
    {
      "cell_type": "code",
      "source": [],
      "metadata": {
        "id": "cV1o4Jn2T7xA"
      },
      "execution_count": null,
      "outputs": []
    },
    {
      "cell_type": "code",
      "source": [
        "# 에라토스테네스의 체 : N 보다 작거나 같은 모든 소수 찾기\n",
        "## 2부터 N까지의 모든 자연수 나열\n",
        "## 가장 작은수를 찾고 그 수를 제외한 배수를 제거\n",
        "## 그 다음 작은 수를 찾고 그 수를 제외한 배수 제거\n",
        "## 이 과정을 거쳐 남아 있는 수는 모두 소수\n",
        "import math\n",
        "\n",
        "n = 1000 # 2부터 1000까지 소수 판별\n",
        "array = [True for i in range(n+1)]\n",
        "\n",
        "for i in range(2, int(math.sqrt(n))+1):\n",
        "  if array[i] == True:\n",
        "    # i를 제외한 i의 모든 배수 지우기\n",
        "    j=2\n",
        "    while i*j <= n:\n",
        "      array[i*j] = False\n",
        "      j+=1\n",
        "\n",
        "# 모든 소수 출력\n",
        "for i in range(2, n+1):\n",
        "  if array[i]:\n",
        "    print(i, end=' ')"
      ],
      "metadata": {
        "id": "tQOXcPAMT7zP"
      },
      "execution_count": null,
      "outputs": []
    },
    {
      "cell_type": "code",
      "source": [],
      "metadata": {
        "id": "qAB5JC43T71u"
      },
      "execution_count": null,
      "outputs": []
    },
    {
      "cell_type": "code",
      "source": [
        "# 투 포인터 (양수일 때만 사용 가능)\n",
        "## 리스트에 순차적으로 접근할 때 2개의 점 위치를 기록하면서 처리\n",
        "## 시작점과 끝점 2개의 점으로 접근할 데이터의 범위 표현 : 2~7번\n",
        "## 특정한 합을 가지는 부분연속 수열 찾기\n",
        "# 1. 시작점과 끝점이 첫 번째 원소의 인덱스(0) 가리킴\n",
        "# 2. 현재 부분합이 M과 같다면 카운트\n",
        "# 3. 현재 부분합이 M보다 작으면 end를 1 증가\n",
        "# 4. 현재 부분합이 M보다 크거나 같으면 start를 1 증가\n",
        "# 5. 2~4 반복"
      ],
      "metadata": {
        "id": "7RHSUXIHWC10"
      },
      "execution_count": null,
      "outputs": []
    },
    {
      "cell_type": "code",
      "source": [
        "n = 5 #데이터의 개수 \n",
        "m = 5 # 찾고자 하는 부분합\n",
        "data = [1,2,3,4,5]  # 전체 수열\n",
        "\n",
        "count = 0\n",
        "interval_sum = 0\n",
        "end = 0\n",
        "\n",
        "# start를 차례대로 증가시키며 반복\n",
        "for start in range(n):\n",
        "  # end를 가능한 만큼 이동\n",
        "  while interval_sum < m and end < n:\n",
        "    interval_sum += data[end]\n",
        "    end += 1\n",
        "  # 부분합이 m일 때 카운트 증가\n",
        "  if interval_sum == m:\n",
        "    count += 1\n",
        "  interval_sum -= data[start]\n",
        "  print(interval_sum)"
      ],
      "metadata": {
        "id": "epIOy0LeWCzk",
        "outputId": "83a0ad05-7ebb-4148-d377-eff1943d88e7",
        "colab": {
          "base_uri": "https://localhost:8080/"
        }
      },
      "execution_count": 2,
      "outputs": [
        {
          "output_type": "stream",
          "name": "stdout",
          "text": [
            "5\n",
            "3\n",
            "4\n",
            "5\n",
            "0\n"
          ]
        }
      ]
    },
    {
      "cell_type": "code",
      "source": [],
      "metadata": {
        "id": "ouzPKT7HYCBp"
      },
      "execution_count": null,
      "outputs": []
    },
    {
      "cell_type": "code",
      "source": [
        "from IPython.utils.openpy import read_py_url\n",
        "# 정렬되어 있는 두 리스트의 합집합\n",
        "n, m =3,4\n",
        "a = [1,3,5]\n",
        "b = [2,4,6,8]\n",
        "\n",
        "# 리스트 a와 b의 모든 원소를 담을 수 있는 크기의 결과 리스트 초기화\n",
        "result = [0] * (n+m)\n",
        "i=0\n",
        "j=0\n",
        "k=0\n",
        "\n",
        "# 모든 원소가 결과 리스트에 담길 때까지 반복\n",
        "while i < n or j < m:\n",
        "  # 리스트 b의 모든원소가 처리되었거나, 리스트 a의 원소가 더 작을 때\n",
        "  if j >= m or (i < n and a[i] <= b[j]):\n",
        "    # 리스트 a의 원소를 결과 리스트로 옮기기\n",
        "    result[k] = a[i]\n",
        "    i += 1\n",
        "  else:\n",
        "    result[k] = b[j]\n",
        "    j += 1\n",
        "  k += 1\n",
        "\n",
        "# 결과 리스트 출력\n",
        "for i in result:\n",
        "  print(i, end=' ') "
      ],
      "metadata": {
        "id": "m9MPAGOWWCxV",
        "outputId": "57e0c37f-8e50-4508-f683-22b4828f0222",
        "colab": {
          "base_uri": "https://localhost:8080/"
        }
      },
      "execution_count": 3,
      "outputs": [
        {
          "output_type": "stream",
          "name": "stdout",
          "text": [
            "1 2 3 4 5 6 8 "
          ]
        }
      ]
    },
    {
      "cell_type": "code",
      "source": [],
      "metadata": {
        "id": "JinCUH3dWCu-"
      },
      "execution_count": null,
      "outputs": []
    },
    {
      "cell_type": "code",
      "source": [
        "# 구간 합 계산(접두사 합 활용)\n",
        "n = 5\n",
        "data = [10, 20, 30, 40, 50]\n",
        "\n",
        "# 접두사 합 배열 계산\n",
        "sum_value = 0\n",
        "prefix_sum = [0]\n",
        "for i in data:\n",
        "  sum_value += i\n",
        "  prefix_sum.append(sum_value)\n",
        "\n",
        "# 구간 합 계산(세번째 수부터 네번째 수 까지)\n",
        "print(prefix_sum[4] - prefix_sum[2])"
      ],
      "metadata": {
        "id": "tvAA4FdGWCsi",
        "outputId": "e6faf588-f644-45b9-dc2e-744d2c0c5937",
        "colab": {
          "base_uri": "https://localhost:8080/"
        }
      },
      "execution_count": 4,
      "outputs": [
        {
          "output_type": "stream",
          "name": "stdout",
          "text": [
            "70\n"
          ]
        }
      ]
    },
    {
      "cell_type": "code",
      "source": [
        "488p"
      ],
      "metadata": {
        "id": "yzaEcp6wasOz"
      },
      "execution_count": null,
      "outputs": []
    },
    {
      "cell_type": "code",
      "source": [],
      "metadata": {
        "id": "T8QRPlMIWCpy"
      },
      "execution_count": null,
      "outputs": []
    }
  ],
  "metadata": {
    "colab": {
      "collapsed_sections": [],
      "name": "Colaboratory에 오신 것을 환영합니다",
      "provenance": [],
      "include_colab_link": true
    },
    "kernelspec": {
      "display_name": "Python 3",
      "name": "python3"
    }
  },
  "nbformat": 4,
  "nbformat_minor": 0
}