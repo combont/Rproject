{
  "cells": [
    {
      "cell_type": "markdown",
      "metadata": {
        "id": "view-in-github",
        "colab_type": "text"
      },
      "source": [
        "<a href=\"https://colab.research.google.com/github/combont/Rproject/blob/master/implement.ipynb\" target=\"_parent\"><img src=\"https://colab.research.google.com/assets/colab-badge.svg\" alt=\"Open In Colab\"/></a>"
      ]
    },
    {
      "cell_type": "code",
      "source": [
        "# 구현\n",
        "# 상하좌우 문제\n",
        "## n*n 정사각형 공간에서 L,R,U,D에 따라 이동\n",
        "## 공간 벗어나지 못함\n",
        "## 입력값 n, L R U D 리스트\n",
        "## 일련의 명령에 따라 움직이는 시뮬레이션 유형(완전탐색)\n",
        "def solution(n, plans):\n",
        "  x,y =1,1\n",
        "  \n",
        "  # L, R, U, D에 다른 이동 방향\n",
        "  dx = [0, 0, -1, 1]\n",
        "  dy = [-1, 1, 0, 0]\n",
        "  move_types = ['L', 'R', 'U', 'D']\n",
        "\n",
        "  # 이동계획 확인\n",
        "  for plan in plans:\n",
        "    for i in range(len(move_types)):\n",
        "      # 이동계획이 L,R,U,D 중 어디에 속하는지 확인해서 이동 인덱스 추출\n",
        "      if plan == move_types[i]:\n",
        "        nx = x + dx[i]\n",
        "        ny = y + dy[i]\n",
        "    # 공간 벗어나는 경우 무시\n",
        "    if nx < 1 or ny < 1 or nx > n or ny > n :\n",
        "      continue\n",
        "\n",
        "    # 이동 수행\n",
        "    x, y = nx, ny\n",
        "\n",
        "  return x, y\n"
      ],
      "metadata": {
        "id": "VKrnKwiV1HZa"
      },
      "execution_count": null,
      "outputs": []
    },
    {
      "cell_type": "code",
      "source": [],
      "metadata": {
        "id": "-EhDbJoy1H9E"
      },
      "execution_count": null,
      "outputs": []
    },
    {
      "cell_type": "code",
      "source": [
        "# 2. 시각\n",
        "## 정수 N 입력 시 00시00분00초 부터 N시59분59까지 모든 시각 중 3이 포함된 경우의 수\n",
        "## 완전탐색 : 가능한 모든 경우의 수 탐색\n",
        "def solution(h):\n",
        "  count = 0\n",
        "  for i in range(h+1):\n",
        "    for j in range(60):\n",
        "      for k in range(60):\n",
        "        if '3' in str(i) + str(j) + str(k):\n",
        "          count += 1\n",
        "  return count  "
      ],
      "metadata": {
        "id": "oYuYmbsR1JLs"
      },
      "execution_count": null,
      "outputs": []
    },
    {
      "cell_type": "code",
      "source": [
        "# 3. 왕실의 나이트\n",
        "## 8x8 평면에서 L자 형태로만 움직임\n",
        "## 수평으로 두 칸 이동한뒤 수직으로 한 칸 이동 or\n",
        "## 수직으로 두 칸 이동한뒤 수평으로 한 칸 이동\n",
        "## 입력 : 열행 번호 a1\n",
        "def solution(input_data):\n",
        "  row = int(input_data[1])\n",
        "  column = int(ord(input_data[0])) - int(ord('a')) + 1\n",
        "\n",
        "  # 나이트가 이동할 수 있는 8가지 방향 정의\n",
        "  steps = [(-2,-1), (-1,-2), (1,-2), (2,-1), (2,1), (1,2), (-1,2), (-2,1) ]\n",
        "\n",
        "  # 8가지 방향에 대해 각 위치로 이동이 가능한지 확인\n",
        "  result = 0\n",
        "  for step in steps:\n",
        "    next_row = row + step[0]\n",
        "    next_column = column + step[1]\n",
        "\n",
        "    # 해당 위치로 이동 가능하면 카운트 증가\n",
        "    if next_row >= 1 and next_row <= 8 and next_column >= 1 and next_column <= 8 :\n",
        "      result += 1\n",
        "  \n",
        "  return result"
      ],
      "metadata": {
        "id": "Rnsxq9q-1LjK"
      },
      "execution_count": null,
      "outputs": []
    },
    {
      "cell_type": "code",
      "source": [],
      "metadata": {
        "id": "sr1SGwJO1NOE"
      },
      "execution_count": null,
      "outputs": []
    },
    {
      "cell_type": "code",
      "source": [
        "# 4. 게임 개발\n",
        "## 입력 맵 크기 n, 첫 위치 좌표(1,1), 바라보고 있는 방향 0, 맵 정보(2차원 리스트)\n",
        "## 일반적으로 방향을 설정해서 이동하는 문제는 \n",
        "## dx, dy라는 별도의 리스트를 만들어 방향을 정하는 것이 효과적이다.\n",
        "def solution(n, m, x, y, direction, array):\n",
        "  # 방문한 위치를 저장하기 위한 맵을 0으로 생성(n*m)\n",
        "  d = [[0]*m for _ in range(n)]\n",
        "  \n",
        "  direction = direction\n",
        "\n",
        "  # 현재 좌표 방문처리\n",
        "  d[x][y] = 1\n",
        "\n",
        "  # 북, 동, 남, 서 방향 정의\n",
        "  dx = [-1, 0, 1, 0]\n",
        "  dy = [0, 1, 0, -1]\n",
        "\n",
        "  # 왼쪽으로 회전\n",
        "  def turn_left():\n",
        "    global direction\n",
        "    direction -= 1\n",
        "    if direction == -1:\n",
        "      direction = 3\n",
        "  \n",
        "  # 시뮬레이션 시작\n",
        "  count = 1\n",
        "  turn_time = 0\n",
        "  while True:\n",
        "    # 왼쪽 회전\n",
        "    turn_left()\n",
        "    nx = x + dx[direction]\n",
        "    ny = y + dy[direction]\n",
        "\n",
        "    # 회전 이후 정면에 가보지 않은 칸이 존재하는 경우 이동\n",
        "    if d[nx][ny] == 0 and array[nx][ny] == 0:\n",
        "      d[nx][ny] = 1\n",
        "      x = nx\n",
        "      y = ny\n",
        "      count += 1\n",
        "      turn_time = 0\n",
        "      continue\n",
        "\n",
        "    # 회전 이후 정면에 가보지 않은 칸이 없거나 바다인 경우\n",
        "    else:\n",
        "      turn_time +=1\n",
        "    \n",
        "    # 네 방향 모두 갈 수 없는 경우\n",
        "    if turn_time == 4:\n",
        "      nx = x - dx[direction]\n",
        "      ny = y - dy[direction]\n",
        "\n",
        "      # 뒤로 갈 수 있다면 이동\n",
        "      if array[nx][ny] == 0:\n",
        "        x = nx\n",
        "        y = ny\n",
        "      # 뒤가 바다로 막혀있는 경우\n",
        "      else:\n",
        "        break\n",
        "      turn_time = 0\n",
        "\n",
        "  return count "
      ],
      "metadata": {
        "id": "vkaUAGD11NLi"
      },
      "execution_count": null,
      "outputs": []
    }
  ],
  "metadata": {
    "colab": {
      "collapsed_sections": [],
      "name": "Colaboratory에 오신 것을 환영합니다",
      "toc_visible": true,
      "provenance": [],
      "include_colab_link": true
    },
    "kernelspec": {
      "display_name": "Python 3",
      "name": "python3"
    }
  },
  "nbformat": 4,
  "nbformat_minor": 0
}