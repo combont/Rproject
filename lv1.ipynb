{
  "cells": [
    {
      "cell_type": "markdown",
      "metadata": {
        "id": "view-in-github",
        "colab_type": "text"
      },
      "source": [
        "<a href=\"https://colab.research.google.com/github/combont/Rproject/blob/master/lv1.ipynb\" target=\"_parent\"><img src=\"https://colab.research.google.com/assets/colab-badge.svg\" alt=\"Open In Colab\"/></a>"
      ]
    },
    {
      "cell_type": "code",
      "source": [
        "# 3진법 뒤집기\n",
        "def solution(n):\n",
        "    answer = ''\n",
        "\n",
        "    while n > 0:\t\t\t\n",
        "        n, re = divmod(n,3)\t# n을 3으로 나눈 몫과 나머지\n",
        "        answer += str(re)\n",
        "    return int(answer, 3)\n",
        "\n",
        "# divmod() : 몫과 나머지를 리턴합니다. 리턴 값이 2개이므로 튜플을 사용합니다.\n",
        "# int(x, base) : base 진법으로 구성된 str 형식의 수를 10진법으로 변환해 줌"
      ],
      "metadata": {
        "id": "yZWceccRJ72j"
      },
      "execution_count": null,
      "outputs": []
    },
    {
      "cell_type": "code",
      "source": [
        "# 숫자 자르고 정렬 후 k번째 수\n",
        "def solution(array, commands):\n",
        "    answer = []\n",
        "    \n",
        "    for i in commands:\n",
        "        ary = array[i[0]-1: i[1]]    # 문제에서 주어진 크기만큼 자르기\n",
        "        ary.sort()    # sort 함수로 정렬\n",
        "        answer.append(ary[i[2]-1])    # k 번째 값 집어넣기\n",
        "        \n",
        "    return answer"
      ],
      "metadata": {
        "id": "1uMzMe1hJ7wz"
      },
      "execution_count": null,
      "outputs": []
    },
    {
      "cell_type": "code",
      "source": [
        "# x만큼 간격이 있는 n개의 숫자\n",
        "def solution(x, n):\n",
        "    return [x*i for i in range(1,n+1)]"
      ],
      "metadata": {
        "id": "fsOYGuzBM0ru"
      },
      "execution_count": null,
      "outputs": []
    },
    {
      "cell_type": "code",
      "source": [
        "# 가운데 글자 가져오기\n",
        "def solution(s):\n",
        "    str_len = len(s)\n",
        "    center = str_len//2\n",
        "    \n",
        "    if str_len%2 == 0:\n",
        "        return s[center-1:center+1]\n",
        "    else:\n",
        "        return s[center]"
      ],
      "metadata": {
        "id": "7uxTM-PeM0uI"
      },
      "execution_count": null,
      "outputs": []
    },
    {
      "cell_type": "code",
      "source": [
        "# 같은 숫자는 싫어\n",
        "def solution(arr):\n",
        "    answer = []\n",
        "    for i in range(len(arr)):\n",
        "        if i == len(arr)-1:\n",
        "            answer.append(arr[i])\n",
        "            break\n",
        "        elif arr[i] != arr[i+1]:\n",
        "            answer.append(arr[i])\n",
        "    return answer"
      ],
      "metadata": {
        "id": "-P4upU0TM0wZ"
      },
      "execution_count": null,
      "outputs": []
    },
    {
      "cell_type": "code",
      "source": [
        "# 나누어 떨어지는 숫자 배열\n",
        "def solution(arr, divisor):\n",
        "    answer = []\n",
        "    for i in arr:\n",
        "        if i % divisor == 0:\n",
        "            answer.append(i)\n",
        "    \n",
        "    if answer == []:\n",
        "        return [-1]\n",
        "    else:\n",
        "        answer.sort()\n",
        "        return answer"
      ],
      "metadata": {
        "id": "KxjEc1EHM0y9"
      },
      "execution_count": null,
      "outputs": []
    },
    {
      "cell_type": "code",
      "source": [
        "# 나머지가 1이 되는 수 찾기\n",
        "def solution(n):\n",
        "    v = n-1\n",
        "    for i in range(2,v+1):\n",
        "        if v%i == 0:\n",
        "            return i"
      ],
      "metadata": {
        "id": "Mr6R2qg-M029"
      },
      "execution_count": null,
      "outputs": []
    },
    {
      "cell_type": "code",
      "source": [
        "# 내적\n",
        "def solution(a, b):\n",
        "    answer = 0\n",
        "    \n",
        "    for i in range(len(a)):\n",
        "        answer += a[i]*b[i]\n",
        "     \n",
        "    return answer"
      ],
      "metadata": {
        "id": "uRb9o_IXWSp_"
      },
      "execution_count": null,
      "outputs": []
    },
    {
      "cell_type": "code",
      "source": [
        "# 두 개 뽑아서 더하기\n",
        "import itertools\n",
        "\n",
        "def solution(numbers):\n",
        "    answer = []\n",
        "    ans_set = set()\n",
        "    perm_list = list(itertools.combinations(numbers, 2))\n",
        "    for i in perm_list:\n",
        "        ans_set.add(sum(i))\n",
        "    answer = list(ans_set)\n",
        "    answer.sort()\n",
        "    return answer"
      ],
      "metadata": {
        "id": "p-kFRtHBTjMN"
      },
      "execution_count": null,
      "outputs": []
    },
    {
      "cell_type": "code",
      "source": [
        "# 두 정수 사이의 합\n",
        "def solution(a, b):\n",
        "    if a==b:\n",
        "        return a\n",
        "    else:\n",
        "        if a<b:\n",
        "            return(sum(list(range(a,b+1))))\n",
        "        else:\n",
        "            return(sum(list(range(a,b-1,-1))))"
      ],
      "metadata": {
        "id": "TEP1GfEWTjKO"
      },
      "execution_count": null,
      "outputs": []
    },
    {
      "cell_type": "code",
      "source": [
        "# 로또의 최고 순위와 최저 순위\n",
        "def solution(lottos, win_nums):\n",
        "    zero, check = 0, 0\n",
        "    lotto = [6,6,5,4,3,2,1]\n",
        "    \n",
        "    for i in lottos:\n",
        "        if i==0:\n",
        "            zero += 1\n",
        "        elif i in win_nums:\n",
        "            check += 1\n",
        "            \n",
        "    return [lotto[check+zero], lotto[check]]"
      ],
      "metadata": {
        "id": "gdZKf2bLTjH5"
      },
      "execution_count": null,
      "outputs": []
    },
    {
      "cell_type": "code",
      "source": [
        "# 모의고사 (완전탐색)\n",
        "def solution(answers):\n",
        "    pattern1 = [1,2,3,4,5]\n",
        "    pattern2 = [2,1,2,3,2,4,2,5]\n",
        "    pattern3 = [3,3,1,1,2,2,4,4,5,5]\n",
        "    score = [0,0,0]\n",
        "    result = []\n",
        "    \n",
        "    for idx, answer in enumerate(answers):\n",
        "        if answer == pattern1[idx%len(pattern1)]:\n",
        "            score[0] += 1\n",
        "        if answer == pattern2[idx%len(pattern2)]:\n",
        "            score[1] += 1\n",
        "        if answer == pattern3[idx%len(pattern3)]:\n",
        "            score[2] += 1\n",
        "    \n",
        "    for idx, s in enumerate(score):\n",
        "        if s == max(score):\n",
        "            result.append(idx+1)\n",
        "    \n",
        "    return result"
      ],
      "metadata": {
        "id": "D2xkyhL2TjFq"
      },
      "execution_count": null,
      "outputs": []
    },
    {
      "cell_type": "code",
      "source": [
        "# 문자열 내 p와 y의 개수\n",
        "def solution(s):\n",
        "    return s.lower().count('p') == s.lower().count('y')"
      ],
      "metadata": {
        "id": "cNKsAw8UTjDe"
      },
      "execution_count": null,
      "outputs": []
    },
    {
      "cell_type": "code",
      "source": [
        "# 문자열 내 마음대로 정렬하기\n",
        "def solution(strings, n):\n",
        "    return sorted(strings, key=lambda x:(x[n], x))"
      ],
      "metadata": {
        "id": "SpRwP0FOTjBW"
      },
      "execution_count": null,
      "outputs": []
    },
    {
      "cell_type": "code",
      "source": [
        "# 문자열 내림차순으로 배치하기\n",
        "def solution(s):\n",
        "    return ''.join(sorted(s, reverse=True))"
      ],
      "metadata": {
        "id": "b9GdYx0MTi_S"
      },
      "execution_count": null,
      "outputs": []
    },
    {
      "cell_type": "code",
      "source": [
        "# 문자열 다루기 기본 \n",
        "# 문자열 s의 길이가 4 혹은 6이고, 숫자로만 구성돼있는지 확인해주는 함수\n",
        "def solution(s):\n",
        "    return s.isdigit() and len(s) in (4,6)"
      ],
      "metadata": {
        "id": "G1E8EehPTi9Q"
      },
      "execution_count": null,
      "outputs": []
    },
    {
      "cell_type": "code",
      "source": [
        "# 문자열을 정수로 바꾸기\n",
        "def solution(s):\n",
        "    return int(s)"
      ],
      "metadata": {
        "id": "BpQ--nv8Ti7X"
      },
      "execution_count": null,
      "outputs": []
    },
    {
      "cell_type": "code",
      "source": [
        "# 부족한 금액 계산하기\n",
        "def solution(price, money, count):\n",
        "    answer = 0\n",
        "    for i in range(1, count+1):\n",
        "        money -= price*i\n",
        "    if money < 0 :\n",
        "        answer = abs(money)\n",
        "    else:\n",
        "        answer = 0\n",
        "    \n",
        "    return answer"
      ],
      "metadata": {
        "id": "NbEmTH5hTi5G"
      },
      "execution_count": null,
      "outputs": []
    },
    {
      "cell_type": "code",
      "source": [
        "# 서울에서 김서방 찾기\n",
        "def solution(seoul):\n",
        "    for idx, name in enumerate(seoul):\n",
        "        if name == 'Kim':\n",
        "            return \"김서방은 \" + str(idx) +\"에 있다\"\n",
        "\n",
        "\n",
        "def solution(seoul):\n",
        "    return \"김서방은 {}에 있다\".format(seoul.index('Kim'))"
      ],
      "metadata": {
        "id": "TvggHvo7Ti28"
      },
      "execution_count": null,
      "outputs": []
    },
    {
      "cell_type": "code",
      "source": [
        "# 23. 소수 만들기\n",
        "import itertools\n",
        "import math\n",
        "\n",
        "def solution(nums):\n",
        "    answer = 0\n",
        "    count = 0\n",
        "    num_list = list(itertools.combinations(nums,3))\n",
        "    for i in num_list:\n",
        "        count = 0\n",
        "        for j in range(2,int(math.sqrt(sum(i)))+1):    \n",
        "            if sum(i) % j == 0:\n",
        "                count = 0\n",
        "                break\n",
        "            else:\n",
        "                count += 1\n",
        "        if count > 0:\n",
        "            answer += 1\n",
        "    return answer"
      ],
      "metadata": {
        "id": "lmFOg2ElTizQ"
      },
      "execution_count": null,
      "outputs": []
    },
    {
      "cell_type": "code",
      "source": [
        "# 소수 찾기\n",
        "import math\n",
        "def solution(n):\n",
        "    answer = 0\n",
        "    count = 0\n",
        "    for i in range(2, n+1):\n",
        "        if i==2 or i==3:\n",
        "                answer += 1\n",
        "                continue\n",
        "        for j in range(2, int(math.sqrt(i))+1):\n",
        "            \n",
        "            if i % j == 0:\n",
        "                count = 0\n",
        "                break\n",
        "            else:\n",
        "                count = 1\n",
        "        if count == 1:\n",
        "            answer += 1\n",
        "        \n",
        "    return answer"
      ],
      "metadata": {
        "id": "NuPwoLpbTiw4"
      },
      "execution_count": null,
      "outputs": []
    },
    {
      "cell_type": "code",
      "source": [
        "# 수박수박수박수\n",
        "def water_melon(n):\n",
        "    return \"수박\"*(n//2) + \"수\"*(n%2)\n",
        "\n",
        "def solution(n):\n",
        "    answer = ''\n",
        "    for i in range(1,n+1):\n",
        "        if i%2 != 0:\n",
        "            answer += '수'\n",
        "        else:\n",
        "            answer += '박'\n",
        "    return answer"
      ],
      "metadata": {
        "id": "wl516pjoTiu0"
      },
      "execution_count": null,
      "outputs": []
    },
    {
      "cell_type": "code",
      "source": [
        "# 시저 암호\n",
        "def caesar(s, n):\n",
        "    s = list(s)\n",
        "    for i in range(len(s)):\n",
        "        if s[i].isupper():\n",
        "            s[i] = chr((ord(s[i]) - ord('A') + n) % 26 + ord('A'))\n",
        "        elif s[i].islower():\n",
        "            s[i] = chr((ord(s[i]) - ord('a') + n) % 26 + ord('a'))\n",
        "\n",
        "    return \"\".join(s)"
      ],
      "metadata": {
        "id": "h81kT8UbTiqe"
      },
      "execution_count": null,
      "outputs": []
    }
  ],
  "metadata": {
    "colab": {
      "collapsed_sections": [],
      "name": "Colaboratory에 오신 것을 환영합니다",
      "provenance": [],
      "include_colab_link": true
    },
    "kernelspec": {
      "display_name": "Python 3",
      "name": "python3"
    }
  },
  "nbformat": 4,
  "nbformat_minor": 0
}