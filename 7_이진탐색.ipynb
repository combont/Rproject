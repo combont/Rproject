{
  "cells": [
    {
      "cell_type": "markdown",
      "metadata": {
        "id": "view-in-github",
        "colab_type": "text"
      },
      "source": [
        "<a href=\"https://colab.research.google.com/github/combont/Rproject/blob/master/7_%EC%9D%B4%EC%A7%84%ED%83%90%EC%83%89.ipynb\" target=\"_parent\"><img src=\"https://colab.research.google.com/assets/colab-badge.svg\" alt=\"Open In Colab\"/></a>"
      ]
    },
    {
      "cell_type": "code",
      "source": [
        "# 이진탐색 \n",
        "## 시간복잡도 : O(logN)\n",
        "## 리스트 내에서 데이터를 빠르게 탐색\n",
        "## 리스트 내 데이터가 이미 정렬되어 있을 때 사용\n",
        "## 시작점, 끝점, 중간점을 지정하고 찾으려는 데이터와 중간점 위치에 있는 데이터를\n",
        "## 반복적으로 비교\n"
      ],
      "metadata": {
        "id": "cxcdqe3B6nU-"
      },
      "execution_count": null,
      "outputs": []
    },
    {
      "cell_type": "code",
      "source": [
        "# 재귀함수로 구현한 이진탐색\n",
        "def binary_search(array, target, start, end):\n",
        "  if start > end:\n",
        "    return None\n",
        "  mid = (start + end) // 2\n",
        "\n",
        "  # 값을 찾은경우 중간 인덱스 반환\n",
        "  if array[mid] == target:\n",
        "    return mid\n",
        "  # 중간점 값보다 찾고자 하는 값이 작은 경우 왼쪽 확인\n",
        "  elif array[mid] > target:\n",
        "    return binary_search(array, target, start, mid-1)\n",
        "  else:\n",
        "    return binary_search(array, target, mid+1, end)\n",
        "\n"
      ],
      "metadata": {
        "id": "_7StUOV66nSo"
      },
      "execution_count": null,
      "outputs": []
    },
    {
      "cell_type": "code",
      "source": [],
      "metadata": {
        "id": "sFyGsh3e6nQU"
      },
      "execution_count": null,
      "outputs": []
    },
    {
      "cell_type": "code",
      "source": [
        "# 부품 찾기\n",
        "## 고유 번호가 있는 n개의 부품 중 고객이 M개 종류의 부품 구매요청\n",
        "## 부품 M개 종류가 모두 있는지 확인"
      ],
      "metadata": {
        "id": "cBrK0C-g6nke"
      },
      "execution_count": null,
      "outputs": []
    },
    {
      "cell_type": "code",
      "source": [
        "# n개 부품을 번호 기준으로 정렬\n",
        "# M개의 부품이 각각 존재하는지 검사\n",
        "# 매장 부품들이 정렬되어 있어 이진탐색 사용\n",
        "def solution(n,array,m,x):\n",
        "  def binary_search(array, target, start, end):\n",
        "    if start > end:\n",
        "      return None\n",
        "    mid = (start + end) // 2\n",
        "\n",
        "    if array[mid] == target:\n",
        "      return mid\n",
        "    elif array[mid] > target:\n",
        "      return binary_search(array, target, start, mid-1)\n",
        "    else:\n",
        "      return binary_search(array, target, mid+1, end)\n",
        "  \n",
        "  # 가게에 있는 부품 정렬\n",
        "  array.sort()\n",
        "\n",
        "  # 손님이 확인 요청한 부품 번호 하나씩 확인\n",
        "  for i in x:\n",
        "    # 해당 부품이 존재하는지 확인\n",
        "    result = binary_search(array, i, 0, n-1)\n",
        "    if result != None:\n",
        "      print('yes', end=' ')\n",
        "    else:\n",
        "      print('no', end=' ')"
      ],
      "metadata": {
        "id": "ofpxVPp86nN5"
      },
      "execution_count": null,
      "outputs": []
    },
    {
      "cell_type": "code",
      "source": [
        "# 집합 자료형 set 활용\n",
        "## 단순히 특정 수가 한 번이라도 등장 했는지 검사하면 되므로\n",
        "def solution(n, array, m, x):\n",
        "  array = set(array)\n",
        "\n",
        "  for i in x:\n",
        "    if i in array:\n",
        "      print('yes', end=' ')\n",
        "    else:\n",
        "      print('no', end=' ')"
      ],
      "metadata": {
        "id": "DRlQU-hi6nLi"
      },
      "execution_count": null,
      "outputs": []
    },
    {
      "cell_type": "code",
      "source": [],
      "metadata": {
        "id": "VNRI20Ci6nJZ"
      },
      "execution_count": null,
      "outputs": []
    },
    {
      "cell_type": "code",
      "source": [
        "# 떡볶이 떡 만들기\n",
        "## 절단기 높이 H를 지정하면 줄지어진 떡을 한 번에 절단\n",
        "## 낮은 떡은 잘리지 않음\n",
        "## 손님이 요청한 총 길이가 M일 때 절단기에 설정할 수 있는 높이의 최댓값"
      ],
      "metadata": {
        "id": "dpx3yyjO6nG0"
      },
      "execution_count": null,
      "outputs": []
    },
    {
      "cell_type": "code",
      "source": [
        "# 원하는 조건을 만족하는 가장 알맞은 값을 찾는 문제 : 파라메트릭 서치(이진탐색)\n",
        "# 적절한 높이를 찾을 때 까지 절단기 높이 H를 반복해서 조정\n",
        "# 범위를 좁힐 때는 이진탐색을 활용해 절반씩 범위를 좁혀 나간다\n",
        "# 절단기의 높이는 1부터 10억까지의 정수인데 이처럼 큰 수를 보면 당연하다는 듯이\n",
        "# 가장 먼저 이진탐색을 떠올려야 한다. 아니면 시간초과"
      ],
      "metadata": {
        "id": "fbuUmYDM6nEc"
      },
      "execution_count": null,
      "outputs": []
    },
    {
      "cell_type": "code",
      "source": [
        "# 절단기 시작점은 0, 끝점은 가장 긴 떡의 길이 19, 중간점 9를 절단기 높이 H로 설정\n",
        "# 절단 결과의 합의 떡 길이 6보다 크면 시작점을 중간점 다음으로 증가"
      ],
      "metadata": {
        "id": "2eVvGb9Q6nCG"
      },
      "execution_count": null,
      "outputs": []
    },
    {
      "cell_type": "code",
      "source": [
        "# 떡의 개수 n, 요청한 떡의 길이 m, 각 떡의 개별 높이 array\n",
        "def solution(n, m, array):\n",
        "  # 이진 탐색을 위한 시작점과 끝점 설정\n",
        "  start = 0\n",
        "  end = max(array)\n",
        "\n",
        "  # 이진탐색 수행(반복문으로)\n",
        "  result = 0\n",
        "  while(start <= end):\n",
        "    total = 0\n",
        "    mid = (start + end) // 2\n",
        "    for x in array:\n",
        "      if x > mid:\n",
        "        total += x-mid\n",
        "    # 떡의 양이 부족한 경우 더 많이 자르기(왼쪽 부분 탐색)\n",
        "    if total < m:\n",
        "      end = mid - 1\n",
        "    # 떡이 양이 넘치는 경우 덜 자르기(오른쪽 부분 탐색)\n",
        "    else:\n",
        "      result = mid\n",
        "      start = mid+1\n",
        "  \n",
        "  return result"
      ],
      "metadata": {
        "id": "Zqxdcrex6m_l"
      },
      "execution_count": null,
      "outputs": []
    },
    {
      "cell_type": "code",
      "source": [],
      "metadata": {
        "id": "IaZd9abd6m9H"
      },
      "execution_count": null,
      "outputs": []
    },
    {
      "cell_type": "code",
      "source": [],
      "metadata": {
        "id": "BffY1DTi6m6e"
      },
      "execution_count": null,
      "outputs": []
    }
  ],
  "metadata": {
    "colab": {
      "collapsed_sections": [],
      "name": "Colaboratory에 오신 것을 환영합니다",
      "toc_visible": true,
      "provenance": [],
      "include_colab_link": true
    },
    "kernelspec": {
      "display_name": "Python 3",
      "name": "python3"
    }
  },
  "nbformat": 4,
  "nbformat_minor": 0
}