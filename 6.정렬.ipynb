{
  "cells": [
    {
      "cell_type": "markdown",
      "metadata": {
        "id": "view-in-github",
        "colab_type": "text"
      },
      "source": [
        "<a href=\"https://colab.research.google.com/github/combont/Rproject/blob/master/6.%EC%A0%95%EB%A0%AC.ipynb\" target=\"_parent\"><img src=\"https://colab.research.google.com/assets/colab-badge.svg\" alt=\"Open In Colab\"/></a>"
      ]
    },
    {
      "cell_type": "code",
      "source": [
        "# 정렬\n",
        "# 선택정렬 : 가장 작은 데이터를 맨 앞으로 보내기 O(N^2)\n",
        "array = [7,5,9,0,3,1,6,2,4,8]\n",
        "\n",
        "def solution(array):\n",
        "\n",
        "  for i in range(len(array)):\n",
        "    min_index = i # 가장 작은 원소의 인덱스\n",
        "    for j in range(i+1, len(array)):\n",
        "      if array[min_index] > array[j]:\n",
        "        min_index = j\n",
        "    array[i], array[min_index] = array[min_index], array[i]\n",
        "  return array"
      ],
      "metadata": {
        "id": "BUge12i1PTEI"
      },
      "execution_count": null,
      "outputs": []
    },
    {
      "cell_type": "code",
      "source": [],
      "metadata": {
        "id": "3Tf4loDgPTHH"
      },
      "execution_count": null,
      "outputs": []
    },
    {
      "cell_type": "code",
      "source": [
        "# 삽입정렬 : 데이터를 적절한 위치에 삽입\n",
        "# 시간복잡도 최악 O(N^2), 현재 리스트가 거의 정렬되어 있으면 O(N)\n",
        "array = [7,5,9,0,3,1,6,2,4,8]\n",
        "\n",
        "def solution(array):\n",
        "  for i in range(1, len(array)):\n",
        "    for j in range(i, 0, -1): # 인덱스 i부터 1까지 감소하며 반복\n",
        "      if array[j] < array[j-1]:\n",
        "        array[j], array[j-1] = array[j-1], array[j]\n",
        "      else:\n",
        "        break\n",
        "  return array\n",
        "\n",
        "solution(array)"
      ],
      "metadata": {
        "colab": {
          "base_uri": "https://localhost:8080/"
        },
        "id": "aBY5ej6SPTKM",
        "outputId": "0c124969-2b2e-4252-bf08-2e76830c2150"
      },
      "execution_count": 8,
      "outputs": [
        {
          "output_type": "execute_result",
          "data": {
            "text/plain": [
              "[0, 1, 2, 3, 4, 5, 6, 7, 8, 9]"
            ]
          },
          "metadata": {},
          "execution_count": 8
        }
      ]
    },
    {
      "cell_type": "code",
      "source": [],
      "metadata": {
        "id": "CjnJNPDtSSSF"
      },
      "execution_count": null,
      "outputs": []
    },
    {
      "cell_type": "code",
      "source": [
        "# 퀵 정렬 : 피벗 정하고(첫 번째 데이터) 왼쪽에서부터 피벗보다 큰 데이터\n",
        "# 오른쪽에서부터 피벗보다 작은 데이터 찾는다\n",
        "# 그 다음 큰 데이터와 작은 데이터 위치 서로 교환\n",
        "# 왼쪽, 오른쪽 두 값이 엇갈린 경우 작은 데이터와 피벗 위치 변경\n",
        "array = [7,5,9,0,3,1,6,2,4,8]\n",
        "\n",
        "def quick_sort(array, start, end):\n",
        "  if start >= end: #원소가 1개인 경우\n",
        "    return\n",
        "\n",
        "  pivot = start\n",
        "  left = start + 1\n",
        "  right = end\n",
        "  while left <= right:\n",
        "    # 피벗보다 큰 데이터를 찾을 때까지 반복\n",
        "    while left <= end and array[left] <= array[pivot]:\n",
        "      left += 1\n",
        "    # 피벗보다 작은 데이터 찾을 때까지 반복\n",
        "    while right > start and array[right] >= array[pivot]:\n",
        "      right -= 1\n",
        "    # 엇갈렸다면 작은 데이터와 피벗 교체\n",
        "    if left > right:\n",
        "      array[right], array[pivot] = array[pivot], array[right]\n",
        "    else:\n",
        "      array[left], array[right] = array[right], array[left]\n",
        "  \n",
        "  # 분할 이후 왼쪽과 오른쪽에서 각각 정렬 수행\n",
        "  quick_sort(array, start, right-1)\n",
        "  quick_sort(array, right+1, end)\n",
        "\n",
        "quick_sort(array, 0, len(array)-1)\n",
        "print(array)"
      ],
      "metadata": {
        "id": "pWaLammPSVYq"
      },
      "execution_count": null,
      "outputs": []
    },
    {
      "cell_type": "code",
      "source": [],
      "metadata": {
        "id": "qcQLg8yW0ddY"
      },
      "execution_count": null,
      "outputs": []
    },
    {
      "cell_type": "code",
      "source": [
        "# 계수 정렬 \n",
        "## 시간복잡도 O(N+K)\n",
        "## 데이터 크기 범위가 제한, 정수형태로 표현할 수 있을 때만 사용\n",
        "## 큰 데이터와 작은 데이터 차이가 1,000,000 넘지 않을 때\n",
        "\n",
        "# 모든 원소의 값이 0보다 크거나 같다고 가정\n",
        "array = [7,5,9,0,3,1,6,2,9,1,4,8,0,5,2]\n",
        "\n",
        "def solution(array):\n",
        "\n",
        "  # 모든 범위를 포함하는 리스트 선언(모든 값은 0으로 초기화)\n",
        "  count = [0] * (max(array) + 1)\n",
        "  answer = []\n",
        "  # 각 데이터에 해당하는 인덱스 값 증가\n",
        "  for i in range(len(array)):\n",
        "    count[array[i]] += 1\n",
        "\n",
        "  # 리스트에 기록된 정렬정보 확인\n",
        "  for i in range(len(count)):\n",
        "    for j in range(count[i]):\n",
        "      answer.append(i)\n",
        "  \n",
        "  return answer\n",
        "\n",
        "solution(array)"
      ],
      "metadata": {
        "id": "qsB5bZQC0dP6",
        "outputId": "90cfb350-f3ef-4bf8-f6b2-2eb429e5c4a7",
        "colab": {
          "base_uri": "https://localhost:8080/"
        }
      },
      "execution_count": 1,
      "outputs": [
        {
          "output_type": "execute_result",
          "data": {
            "text/plain": [
              "[0, 0, 1, 1, 2, 2, 3, 4, 5, 5, 6, 7, 8, 9, 9]"
            ]
          },
          "metadata": {},
          "execution_count": 1
        }
      ]
    },
    {
      "cell_type": "code",
      "source": [],
      "metadata": {
        "id": "ElHhkY0e2vk9"
      },
      "execution_count": null,
      "outputs": []
    },
    {
      "cell_type": "code",
      "source": [
        "# 위에서 아래로\n",
        "## 수열 내림차순 정렬\n",
        "def solution(array):\n",
        "  array = sorted(array, reverse=True)\n",
        "  return array"
      ],
      "metadata": {
        "id": "FmdCKy-w3KOV"
      },
      "execution_count": null,
      "outputs": []
    },
    {
      "cell_type": "code",
      "source": [],
      "metadata": {
        "id": "cgw97BqK3ywO"
      },
      "execution_count": null,
      "outputs": []
    },
    {
      "cell_type": "code",
      "source": [
        "# 성적이 낮은 순서로 학생 출력\n",
        "## 입력 : 튜플(이름, 점수)\n",
        "array =[('홍길동', 95), ('이순신', 77)]\n",
        "\n",
        "def solution(array):\n",
        "  array = sorted(array, key=lambda student: student[1])\n",
        "  return array\n",
        "\n",
        "\n",
        "solution(array)\n"
      ],
      "metadata": {
        "id": "bh6a6J3j3y5s",
        "outputId": "9eae6d38-b649-40d3-c6ee-47bdee19c95b",
        "colab": {
          "base_uri": "https://localhost:8080/"
        }
      },
      "execution_count": 3,
      "outputs": [
        {
          "output_type": "execute_result",
          "data": {
            "text/plain": [
              "[('이순신', 77), ('홍길동', 95)]"
            ]
          },
          "metadata": {},
          "execution_count": 3
        }
      ]
    },
    {
      "cell_type": "code",
      "source": [],
      "metadata": {
        "id": "WOkCM7RV5Cl3"
      },
      "execution_count": null,
      "outputs": []
    },
    {
      "cell_type": "code",
      "source": [
        "# 두 배열의 원소교체\n",
        "## 배열 A와 B가 있을 때 최대 K번 바꿔치기하여 만들 수 있는\n",
        "## 배열 A의 모든 원소 합의 최댓값 출력\n",
        "## 입력 : 크기 n, 횟수 k, 배열 a, 배열 b\n",
        "def solution(n,k,a,b):\n",
        "  # 배열 a 오름차순 정렬\n",
        "  a.sort()\n",
        "\n",
        "  # 배열 b 내림차순 정렬\n",
        "  b.sort(reverse=True)\n",
        "\n",
        "  # 첫 번째부터 두 배열의 원소를 최대 K번 비교\n",
        "  for i in range(k):\n",
        "    # a의 원소가 b보다 작은 경우\n",
        "    if a[i] < b[i]:\n",
        "      a[i], b[i] = b[i], a[i]\n",
        "    else:\n",
        "      break\n",
        "  \n",
        "  return sum(a)"
      ],
      "metadata": {
        "id": "BVoXn2IG42n6"
      },
      "execution_count": null,
      "outputs": []
    }
  ],
  "metadata": {
    "colab": {
      "collapsed_sections": [],
      "name": "Colaboratory에 오신 것을 환영합니다",
      "toc_visible": true,
      "provenance": [],
      "include_colab_link": true
    },
    "kernelspec": {
      "display_name": "Python 3",
      "name": "python3"
    }
  },
  "nbformat": 4,
  "nbformat_minor": 0
}