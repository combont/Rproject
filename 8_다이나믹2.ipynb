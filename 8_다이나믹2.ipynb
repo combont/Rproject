{
  "cells": [
    {
      "cell_type": "markdown",
      "metadata": {
        "id": "view-in-github",
        "colab_type": "text"
      },
      "source": [
        "<a href=\"https://colab.research.google.com/github/combont/Rproject/blob/master/8_%EB%8B%A4%EC%9D%B4%EB%82%98%EB%AF%B92.ipynb\" target=\"_parent\"><img src=\"https://colab.research.google.com/assets/colab-badge.svg\" alt=\"Open In Colab\"/></a>"
      ]
    },
    {
      "cell_type": "code",
      "source": [
        "# 4. 바닥공사\n",
        "## 가로 길이가 N, 세로길이가 2인 직사각형 형태의 얇은 바닥\n",
        "## 바닥을 1*2, 2*1, 2*2 덮개로 채우려고 함, 바닥을 채우는 모든 경우의 수를 796796으로 나눈 나머지\n",
        "def solution(n):\n",
        "  # 계산결과 저장할 DP 테이블\n",
        "  d = [0] * 1001\n",
        "\n",
        "  # 다이나믹 프로그래밍(보텀업)\n",
        "  d[1] = 1\n",
        "  d[2] = 3\n",
        "  for i in range(3, n+1):\n",
        "    d[i] = (d[i-1] + 2 * d[i-2]) % 796796\n",
        "  \n",
        "  return(d[n])"
      ],
      "metadata": {
        "id": "qRGShvY6gTb3"
      },
      "execution_count": null,
      "outputs": []
    },
    {
      "cell_type": "code",
      "source": [],
      "metadata": {
        "id": "uXffTHkmjmxC"
      },
      "execution_count": null,
      "outputs": []
    },
    {
      "cell_type": "code",
      "source": [],
      "metadata": {
        "id": "CsUnKjNNjmus"
      },
      "execution_count": null,
      "outputs": []
    },
    {
      "cell_type": "code",
      "source": [
        "# 5. 효율적인 화폐 구성\n",
        "## n 가지 종류의 화폐를 최소한으로 이용해서 합의 M원이 되도록\n",
        "## 각 화폐는 몇 개라도 사용 가능\n",
        "## 그리디의 거스름돈과 거의 동일하나 화폐 단위가 배수가 아님\n",
        "## array는 n개의 화폐 단위 정보\n",
        "def solution(n, m, array):\n",
        "  d = [10001] * (m+1)\n",
        "\n",
        "  # 다이나믹 프로그래밍(보텀업)\n",
        "  d[0] = 0\n",
        "  for i in range(n):\n",
        "    for j in range(array[i], m+1):\n",
        "      if d[j-array[i]] != 10001:\n",
        "        d[j] = min(d[j], d[j - array[i]]+1)\n",
        "\n",
        "  # 계싼결과 출력\n",
        "  if d[m] == 10001:\n",
        "    return -1\n",
        "  else:\n",
        "    return d[m]"
      ],
      "metadata": {
        "id": "5zIcjgBgjmsP"
      },
      "execution_count": null,
      "outputs": []
    },
    {
      "cell_type": "code",
      "source": [],
      "metadata": {
        "id": "ezW5xM57jmg6"
      },
      "execution_count": null,
      "outputs": []
    }
  ],
  "metadata": {
    "colab": {
      "collapsed_sections": [],
      "name": "Colaboratory에 오신 것을 환영합니다",
      "toc_visible": true,
      "provenance": [],
      "include_colab_link": true
    },
    "kernelspec": {
      "display_name": "Python 3",
      "name": "python3"
    }
  },
  "nbformat": 4,
  "nbformat_minor": 0
}