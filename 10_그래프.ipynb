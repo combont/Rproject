{
  "cells": [
    {
      "cell_type": "markdown",
      "metadata": {
        "id": "view-in-github",
        "colab_type": "text"
      },
      "source": [
        "<a href=\"https://colab.research.google.com/github/combont/Rproject/blob/master/10_%EA%B7%B8%EB%9E%98%ED%94%84.ipynb\" target=\"_parent\"><img src=\"https://colab.research.google.com/assets/colab-badge.svg\" alt=\"Open In Colab\"/></a>"
      ]
    },
    {
      "cell_type": "code",
      "source": [
        "from re import I\n",
        "# 그래프\n",
        "# 서로소\n",
        "\n",
        "# 노드의 개수 v, 간선의 수 e(union 연산), 원소 a, b\n",
        "def solution(v,e,a,b):\n",
        "  # 특정 원소가 속한 집합 찾기\n",
        "  def find_parent(parent, x):\n",
        "    # 루트 노드가 아니면, 루트 노드 찾을 때까지 재귀적으로 호출\n",
        "    if parent[x] != x:\n",
        "      return find_parent(parent, parent[x])\n",
        "    return x\n",
        "\n",
        "    # 두 원소가 속한 집합 합치기\n",
        "    def union_parent(parent, a, b):\n",
        "      a = find_parent(parent, a)\n",
        "      b = find_parent(parent, b)\n",
        "\n",
        "      if a < b:\n",
        "        parent[b] = a\n",
        "      else:\n",
        "        parent[a] = b\n",
        "\n",
        "    # 부모 테이블 초기화\n",
        "    parent = [0] * (v+1)\n",
        "\n",
        "    # 부모 테이블에서 부모를 자기 자신으로 초기화\n",
        "    for i in range(1, v+1):\n",
        "      parent[i] = i\n",
        "\n",
        "    # union 연산을 각각 수행\n",
        "    for i in range(e):\n",
        "      union_parent(parent, a, b)\n",
        "\n",
        "    # 각 원소가 속한 집합\n",
        "    for i in range(1, v+1):\n",
        "      find_parent(parent, i)\n",
        "\n",
        "    # 부모 테이블 내용 출력\n",
        "    for i in range(i, v+1):\n",
        "      parent[i] "
      ],
      "metadata": {
        "id": "-g6MH2Y5kQd0"
      },
      "execution_count": null,
      "outputs": []
    },
    {
      "cell_type": "code",
      "source": [],
      "metadata": {
        "id": "-q8-P9yFkQgC"
      },
      "execution_count": null,
      "outputs": []
    },
    {
      "cell_type": "code",
      "source": [
        "# 신장트리\n",
        "## 하나의 그래프가 있을 때 모든 노드를 포함하면서 사이클이 존재하지 않는 부분 그래프"
      ],
      "metadata": {
        "id": "5sgwDuHEkQk4"
      },
      "execution_count": null,
      "outputs": []
    },
    {
      "cell_type": "code",
      "source": [
        "# 최소 비용으로 신장트리 찾기\n",
        "## 크루스칼 알고리즘 \n",
        "## 모든 간선에 대하여 정렬을 수행한 뒤 가장 거리가 짧은 간선부터 집합에 포함\n",
        "## 간선 데이터를 비용에 따라 오름차순 정렬 > 간선을 하나씩 확인하며 현재 간선이 사이클 발생시키는지 확인\n",
        "## 간선 개수 = 노느 개수 -1\n",
        "## 사이클이 발생하면 패스, 발생하지 않으면 union 하기"
      ],
      "metadata": {
        "id": "_hgwRT4TkQm8"
      },
      "execution_count": null,
      "outputs": []
    },
    {
      "cell_type": "code",
      "source": [
        "def solution():\n",
        "  # 특정 원소가 속한 집합 찾기\n",
        "  def find_parent(parent, x):\n",
        "    # 루트 노드가 아니면, 루트 노드를 찾을 때까지 재귀적으로 호출\n",
        "    if parent[x] != x:\n",
        "      parent[x] = find_parent(parent, parent[x])\n",
        "    return parent[x]\n",
        "\n",
        "  # 두 원소가 속한 집합 합치기\n",
        "  def union_parent(parent, a, b):\n",
        "    a = find_parent(parent, a)\n",
        "    b = find_parent(parent, b)\n",
        "    if a < b:\n",
        "      parent[b] = a\n",
        "    else:\n",
        "      parent[a] = b\n",
        "\n",
        "  # 노드의 개수와 간선(union 연산)의 개수 입력\n",
        "  v, e = map(int, input().split())\n",
        "  parent = [0] * (v+1) # 부모 테이블 초기화\n",
        "\n",
        "  # 모든 간선을 담을 리스트와 최종 비용을 담을 변수\n",
        "  edges = []\n",
        "  result = 0\n",
        "\n",
        "  # 부모 테이블상에서 부모를 자기 자신으로 초기화\n",
        "  for i in range(1, v+1):\n",
        "    parent[i] = i\n",
        "\n",
        "  # 모든 간선에 대한 정보 입력받기\n",
        "  for _ in range(e):\n",
        "    a, b, cost = map(int, input().split())\n",
        "    # 비용순으로 정렬하기 위해 튜플의 첫 번째 원소를 비용으로 설정\n",
        "    edges.append((cost, a, b))\n",
        "  \n",
        "\n",
        "  # 간선을 비용순으로 정렬\n",
        "  edges.sort()\n",
        "\n",
        "  # 간선을 하나씩 확인하며\n",
        "  for edge in edges:\n",
        "    cost, a, b = edge\n",
        "    # 사이클이 발생하지 않을 때만 집합에 포함\n",
        "    if find_parent(parent, a) != find_parent(parent, b):\n",
        "      union_parent(parent, a, b)\n",
        "      result += cost\n",
        "  \n",
        "  return result"
      ],
      "metadata": {
        "id": "-QJPQ1yNkQpW"
      },
      "execution_count": null,
      "outputs": []
    },
    {
      "cell_type": "code",
      "source": [],
      "metadata": {
        "id": "PGGghn4gkQrf"
      },
      "execution_count": null,
      "outputs": []
    },
    {
      "cell_type": "code",
      "source": [
        "# 위상 정렬\n",
        "## 방향 그래프의 모든 노드를 방향성에 거스르지 않도록 순서대로 나열\n",
        "## 예 : 선수과목을 고려한 학습 순서 결정\n",
        "## 절차\n",
        "### 진입차수가 0인 노드를 큐에 넣는다 > 큐가 빌 때 까지 다음 과정 반복\n",
        "### 큐에서 원소를 꺼내 해당 노드에서 출발하는 간선을 그래프에서 제거 >> 새롭게 진입차수가 0인 노드를 큐에 넣는다"
      ],
      "metadata": {
        "id": "spXUMLx0kQt_"
      },
      "execution_count": null,
      "outputs": []
    },
    {
      "cell_type": "code",
      "source": [
        "from collections import deque\n",
        "\n",
        "v, e = map(int, input().split())\n",
        "\n",
        "# 모든 노드의 진입차수를 0으로 초기화\n",
        "indegree = [0] * (v+1)\n",
        "\n",
        "# 각 노드에 연결된 간선 정보를 담기 위한 연결 리스트 초기화\n",
        "graph = [[] for i in range(v+1)]\n",
        "\n",
        "# 방향 그래프의 모든 간선 정보 입력\n",
        "for _ in range(e):\n",
        "  a, b = map(int, input().split())\n",
        "  graph[a].append(b) #정점 a에서 b로 이동 가능\n",
        "  # 진입차수 1 증가\n",
        "  indegree[b] += 1\n",
        "\n",
        "# 위상정렬 함수\n",
        "def topology_sort():\n",
        "  result = []  # 알고리즘 수행 결과를 담을 리스트\n",
        "  q = deque()  # 큐 기능을 위한 deque 라이브러리 사용\n",
        "\n",
        "  # 처음 시작할 때 진입차수가 0인 노드를 큐에 삽입\n",
        "  for i in range(1, v+1):\n",
        "    if indegree[i] == 0:\n",
        "      q.append(i)\n",
        "\n",
        "  # 큐가 빌 때까지 반복\n",
        "  while q:\n",
        "    # 큐에서 원소 꺼내기\n",
        "    now = q.popleft()\n",
        "    result.append(now)\n",
        "\n",
        "    # 해당 원소와 연결된 노드들의 진입차수에서 1 빼기\n",
        "    for i in graph[now]:\n",
        "      indegree[i] -= 1\n",
        "\n",
        "      # 새롭게 진입차수가 0이되는 노드를 큐에 삽입\n",
        "      if indegree[i] == 0:\n",
        "        q.append(i)\n",
        "\n",
        "  # 위상정렬 결과 출력\n",
        "  for i in result:\n",
        "    print(i, end=' ')\n",
        "\n",
        "topology_sort()"
      ],
      "metadata": {
        "id": "544Whh2FIVV8"
      },
      "execution_count": null,
      "outputs": []
    },
    {
      "cell_type": "code",
      "source": [],
      "metadata": {
        "id": "tf1KxnTlIVTg"
      },
      "execution_count": null,
      "outputs": []
    },
    {
      "cell_type": "code",
      "source": [
        "# 실전문제 2 : 팀 결성\n",
        "## 팀 합치기 연산과 같은 팀 여부 확인 연산를 수행하며 같은 팀 여부 확인 연산 결과 출력\n",
        "## >> 서로소 문제"
      ],
      "metadata": {
        "id": "LxXfVFQOIVRe"
      },
      "execution_count": null,
      "outputs": []
    },
    {
      "cell_type": "code",
      "source": [
        "# 특정 원소가 속한 집합 찾기\n",
        "def find_parent(parent, x):\n",
        "  # 루트 노드가 아니면, 루트 노드 찾을 때까지 재귀호출\n",
        "  if parent[x] != x:\n",
        "    parent[x] = find_parent(parent, parent[x])\n",
        "  return parent[x]\n",
        "\n",
        "# 두 원소가 속한 집합 합치기\n",
        "def union_parent(parent, a, b):\n",
        "  a = find_parent(parent, a)\n",
        "  b = find_parent(parent, b)\n",
        "  if a < b:\n",
        "    parent[b] = a\n",
        "  else:\n",
        "    parent[a] = b\n",
        "\n",
        "n, m = map(int, input().split())\n",
        "# 부모 테이블 초기화\n",
        "parent = [0] * (n+1)\n",
        "\n",
        "# 부모 테이블상에서 부모를 자기 자신으로 초기화\n",
        "for i in range(0, n+1):\n",
        "  parent[i] = i\n",
        "\n",
        "# 팀 합치기, 같은 팀 여부 확인 연산 하나씩 확인\n",
        "for i in range(m):\n",
        "  oper, a, b = map(int, input().split())\n",
        "  # 합집합인 경우\n",
        "  if oper == 0:\n",
        "    union_parent(parent, a, b)\n",
        "  # 찾기인 경우\n",
        "  elif oper == 1:\n",
        "    if find_parent(parent, a) == find_parent(parent, b):\n",
        "      print('YES')\n",
        "    else:\n",
        "      print('NO')"
      ],
      "metadata": {
        "id": "IJa5cVdMKE8R"
      },
      "execution_count": null,
      "outputs": []
    },
    {
      "cell_type": "code",
      "source": [],
      "metadata": {
        "id": "CmTJScPIKE-T"
      },
      "execution_count": null,
      "outputs": []
    },
    {
      "cell_type": "code",
      "source": [
        "# 실전문제 3 : 도시 분할 계획\n",
        "## 마을은 N개의 집과 집들을 연결하는 M개의 길로 이루어짐\n",
        "## 마을을 2개로 분리, 분리된 마을 안에 집들이 서로 연결되도록\n",
        "## 위 조건을 만족하도록 길들을 모두 없애고 나머지 길의 유지비 합을 최소로 하길원함\n",
        "## 입력값 : 집의 개수 n, 길의 개수 m, a번 집과 b번 집을 연결하는 유지비 c"
      ],
      "metadata": {
        "id": "UIj8J5-qKFAd"
      },
      "execution_count": null,
      "outputs": []
    },
    {
      "cell_type": "code",
      "source": [
        "# 해결\n",
        "## 전체 그래프에서 2개의 최소 신장 트리\n",
        "## 크루스칼 알고리즘으로 최소 신장 트리를 찾은 뒤 간선 중 가장 비용이 큰 간선 제거"
      ],
      "metadata": {
        "id": "A7b3iUj0LigT"
      },
      "execution_count": null,
      "outputs": []
    },
    {
      "cell_type": "code",
      "source": [
        "# 특정 원소가 속한 집합 찾기\n",
        "def find_parent(parent, x):\n",
        "  # 루트 노드가 아니면 재귀호출\n",
        "  if parent[x] != x:\n",
        "    parent[x] = find_parent(parent, parent[x])\n",
        "  return parent[x]\n",
        "\n",
        "# 두 원소가 속한 집합 합치기\n",
        "def union_parent(parent, a, b):\n",
        "  a = find_parent(parent, a)\n",
        "  b = find_parent(parent, b)\n",
        "\n",
        "  if a<b:\n",
        "    parent[b] = a\n",
        "  else:\n",
        "    parent[a] = b\n",
        "\n",
        "# 노드와 간선 개수 입력\n",
        "v, e = map(int, input().split())\n",
        "parent = [0] * (v+1)\n",
        "\n",
        "# 모든 간선을 담을 리스트와 최종 비용 변수\n",
        "edges =[]\n",
        "result = 0\n",
        "\n",
        "# 부모를 자기 자신으로 초기화\n",
        "for i in range(1, v+1):\n",
        "  parent[i] = i\n",
        "\n",
        "# 모든 간선 정보 입력\n",
        "for _ in range(e):\n",
        "  a, b, cost = map(int, input().split())\n",
        "  # 비용순으로 정렬하기 위해 튜플의 첫 번째 원소를 비용으로 설정\n",
        "  edges.append((cost, a, b))\n",
        "\n",
        "# 간선을 비용순으로정렬\n",
        "edges.sort()\n",
        "last = 0  # 최소 신장트리에 포함되는 간선 중 가장 비용이 큰 간선\n",
        "\n",
        "# 간선을 하나씩 확인하며\n",
        "for edge in edges:\n",
        "  cost, a, b = edge\n",
        "\n",
        "  # 사이클이 발생하지 않는 경우만 집합에 포함\n",
        "  if find_parent(parent, a) != find_parent(parent, b):\n",
        "    union_parent(parent, a, b)\n",
        "    result += cost\n",
        "    last = cost\n",
        "\n",
        "print(result - last)"
      ],
      "metadata": {
        "id": "LKYxAfx8Lvy8"
      },
      "execution_count": null,
      "outputs": []
    },
    {
      "cell_type": "code",
      "source": [],
      "metadata": {
        "id": "zpI1fPVYLv0_"
      },
      "execution_count": null,
      "outputs": []
    },
    {
      "cell_type": "code",
      "source": [
        "# 실전문제 4 : 커리큘럼\n",
        "## 총 N개의 강의(1~N)\n",
        "## 동시에 여러개 강의 들을 수 있고 N개의 강의 정보가 주어졌을 때 수강하기까지 걸리는 최소시간\n",
        "## 입력 : 강의 수 N, 각 강의 시간과 먼저 들어야 하는 강의 번호"
      ],
      "metadata": {
        "id": "ATesJzaOLv3F"
      },
      "execution_count": null,
      "outputs": []
    },
    {
      "cell_type": "code",
      "source": [
        "# 해결\n",
        "## 각 강의에 대해 인접노드를 확인하여 현재보다 강의 시간이 더 긴 경우를 찾으면 더 오랜 시간이 걸리는\n",
        "## 시간 값을 저장하는 방식으로 테이블 갱신\n",
        "## 처음 각 강의 시간은 time 리스트 변수에 담겨 있는데, 위상정렬 초기 부분에 deepcopy() 수행하여 리스트 값 변경 예방\n",
        "from collections import deque\n",
        "import copy\n",
        "\n",
        "# 노드 개수 입력\n",
        "v = int(input())\n",
        "\n",
        "# 모든 노드의 진입차수 0으로 초기화\n",
        "indegree = [0] * (v+1)\n",
        "\n",
        "# 각 노드에 연결된 간선 정보를 담기위한 연결 리스트 초기화\n",
        "graph = [[] for i in range(v+1)]\n",
        "\n",
        "# 각 강의 시간을 0으로 초기화\n",
        "time = [0] * (v+1)\n",
        "\n",
        "# 방향 그래프의 모든 간선 정보 입력받기\n",
        "for i in range(1, v+1):\n",
        "  data = list(map(int, input().split()))\n",
        "  time[i] = data[0] # 첫 번째 수는 시간정보\n",
        "  for x in data[1:-1]:\n",
        "    indegree[i] += 1\n",
        "    graph[x].append(i)\n",
        "\n",
        "# 위상정렬 함수\n",
        "def topology_sort():\n",
        "  result = copy.deepcopy(time) # 알고리즘 수행결과를 담을 리스트\n",
        "  q = deque()\n",
        "\n",
        "  # 처음 시작할 때 진입차수가 0인 노드를 큐에 삽입\n",
        "  for i in range(1, v+1):\n",
        "    if indegree[i] == 0:\n",
        "      q.append(i)\n",
        "\n",
        "  # 큐가 빌 때까지 반복\n",
        "  while q:\n",
        "    # 큐에서 원소 꺼내기\n",
        "    now = q.popleft()\n",
        "    # 해당 원소와 연결된 노드들의 진입차수에서 1 빼기\n",
        "    for i in graph[now]:\n",
        "      result[i] = max(result[i], result[now] + time[i])\n",
        "      indegree[i] -= 1\n",
        "      # 새롭게 진입차수가 0이 되는 노드를 큐에 삽입\n",
        "      if indegree[i] == 0:\n",
        "        q.append(i)\n",
        "\n",
        "  # 위상 정렬 수행결과 출력\n",
        "  for i in range(1, v+1):\n",
        "    print(result[i])\n",
        "\n",
        "topology_sort()"
      ],
      "metadata": {
        "id": "VJqtXKSJLv5s"
      },
      "execution_count": null,
      "outputs": []
    },
    {
      "cell_type": "code",
      "source": [
        "graph = [[] for i in range(10+1)]\n",
        "graph"
      ],
      "metadata": {
        "id": "ki836-2uR_y6",
        "outputId": "e131f172-2126-42b6-c3b9-78507e61856f",
        "colab": {
          "base_uri": "https://localhost:8080/"
        }
      },
      "execution_count": 1,
      "outputs": [
        {
          "output_type": "execute_result",
          "data": {
            "text/plain": [
              "[[], [], [], [], [], [], [], [], [], [], []]"
            ]
          },
          "metadata": {},
          "execution_count": 1
        }
      ]
    }
  ],
  "metadata": {
    "colab": {
      "collapsed_sections": [],
      "name": "Colaboratory에 오신 것을 환영합니다",
      "provenance": [],
      "include_colab_link": true
    },
    "kernelspec": {
      "display_name": "Python 3",
      "name": "python3"
    }
  },
  "nbformat": 4,
  "nbformat_minor": 0
}