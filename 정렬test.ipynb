{
  "cells": [
    {
      "cell_type": "markdown",
      "metadata": {
        "id": "view-in-github",
        "colab_type": "text"
      },
      "source": [
        "<a href=\"https://colab.research.google.com/github/combont/Rproject/blob/master/%EC%A0%95%EB%A0%ACtest.ipynb\" target=\"_parent\"><img src=\"https://colab.research.google.com/assets/colab-badge.svg\" alt=\"Open In Colab\"/></a>"
      ]
    },
    {
      "cell_type": "code",
      "source": [
        "# 정렬\n",
        "# 선택정렬 : 가장 작은 데이터를 맨 앞으로 보내기 O(N^2)\n",
        "array = [7,5,9,0,3,1,6,2,4,8]\n",
        "\n",
        "def solution(array):\n",
        "\n",
        "  for i in range(len(array)):\n",
        "    min_index = i # 가장 작은 원소의 인덱스\n",
        "    for j in range(i+1, len(array)):\n",
        "      if array[min_index] > array[j]:\n",
        "        min_index = j\n",
        "    array[i], array[min_index] = array[min_index], array[i]\n",
        "  return array"
      ],
      "metadata": {
        "id": "BUge12i1PTEI"
      },
      "execution_count": null,
      "outputs": []
    },
    {
      "cell_type": "code",
      "source": [],
      "metadata": {
        "id": "3Tf4loDgPTHH"
      },
      "execution_count": null,
      "outputs": []
    },
    {
      "cell_type": "code",
      "source": [
        "# 삽입정렬 : 데이터를 적절한 위치에 삽입\n",
        "# 시간복잡도 최악 O(N^2), 현재 리스트가 거의 정렬되어 있으면 O(N)\n",
        "array = [7,5,9,0,3,1,6,2,4,8]\n",
        "\n",
        "def solution(array):\n",
        "  for i in range(1, len(array)):\n",
        "    for j in range(i, 0, -1): # 인덱스 i부터 1까지 감소하며 반복\n",
        "      if array[j] < array[j-1]:\n",
        "        array[j], array[j-1] = array[j-1], array[j]\n",
        "      else:\n",
        "        break\n",
        "  return array\n",
        "\n",
        "solution(array)"
      ],
      "metadata": {
        "id": "aBY5ej6SPTKM",
        "outputId": "0c124969-2b2e-4252-bf08-2e76830c2150",
        "colab": {
          "base_uri": "https://localhost:8080/"
        }
      },
      "execution_count": 8,
      "outputs": [
        {
          "output_type": "execute_result",
          "data": {
            "text/plain": [
              "[0, 1, 2, 3, 4, 5, 6, 7, 8, 9]"
            ]
          },
          "metadata": {},
          "execution_count": 8
        }
      ]
    },
    {
      "cell_type": "code",
      "source": [],
      "metadata": {
        "id": "CjnJNPDtSSSF"
      },
      "execution_count": null,
      "outputs": []
    },
    {
      "cell_type": "code",
      "source": [
        "# 퀵 정렬 : 피벗 정하고(첫 번째 데이터) 왼쪽에서부터 피벗보다 큰 데이터\n",
        "# 오른쪽에서부터 피벗보다 작은 데이터 찾는다\n",
        "# 그 다음 큰 데이터와 작은 데이터 위치 서로 교환\n",
        "# 왼쪽, 오른쪽 두 값이 엇갈린 경우 작은 데이터와 피벗 위치 변경"
      ],
      "metadata": {
        "id": "pWaLammPSVYq"
      },
      "execution_count": null,
      "outputs": []
    }
  ],
  "metadata": {
    "colab": {
      "collapsed_sections": [],
      "name": "Colaboratory에 오신 것을 환영합니다",
      "toc_visible": true,
      "provenance": [],
      "include_colab_link": true
    },
    "kernelspec": {
      "display_name": "Python 3",
      "name": "python3"
    }
  },
  "nbformat": 4,
  "nbformat_minor": 0
}