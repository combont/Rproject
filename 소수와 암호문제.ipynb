{
  "cells": [
    {
      "cell_type": "markdown",
      "metadata": {
        "id": "view-in-github",
        "colab_type": "text"
      },
      "source": [
        "<a href=\"https://colab.research.google.com/github/combont/Rproject/blob/master/%EC%86%8C%EC%88%98%EC%99%80%20%EC%95%94%ED%98%B8%EB%AC%B8%EC%A0%9C.ipynb\" target=\"_parent\"><img src=\"https://colab.research.google.com/assets/colab-badge.svg\" alt=\"Open In Colab\"/></a>"
      ]
    },
    {
      "cell_type": "code",
      "source": [
        "# M 이상 N 이하의 소수 모두 출력\n",
        "import math\n",
        "\n",
        "# m, n 입력\n",
        "m, n = map(int, input().split())\n",
        "array = [True for i in range(1000001)] # 처음에는 모든 수가 소수인 것으로 초기화\n",
        "array[1] = 0  # 1은 소수 아님\n",
        "\n",
        "# 에라토스테네스의 체 알고리즘\n",
        "for i in range(2, int(math.sqrt(n))+1):\n",
        "  if array[i] == True:\n",
        "    # i를 제외한 i의 모든 배수 제거\n",
        "    j = 2  \n",
        "    while i*j <= n:\n",
        "      array[i*j] = False\n",
        "      j += 1\n",
        "\n",
        "for i in range(m,n+1):\n",
        "  if array[i]:\n",
        "    print(i)"
      ],
      "metadata": {
        "id": "d1T32_8BjWpN"
      },
      "execution_count": null,
      "outputs": []
    },
    {
      "cell_type": "code",
      "source": [],
      "metadata": {
        "id": "KAJ5C1wpjWrs"
      },
      "execution_count": null,
      "outputs": []
    },
    {
      "cell_type": "code",
      "source": [
        "# 암호 만들기\n",
        "## 서로 다른 L개의 알파벳 소문자 암호, 최소 한 개의 모음과 두 개의 자음, 문자의 가짓수 C\n",
        "## 알파벳이 증가하는 순서로 배열\n",
        "## 해결 : 길이가 L인 암호 조합을 확인한 후, 최소 1개의 모음과 2개의 자음이 있는 경우만 출력\n",
        "from itertools import combinations\n",
        "\n",
        "vowels = ('a', 'e', 'i', 'o', 'u') # 5개 모음\n",
        "l, c = map(int, input().split(' '))\n",
        "\n",
        "# 가능한 암호를 사전식으로 출력하기 위해 입력 이후 정렬 수행\n",
        "array = input().split(' ')\n",
        "array.sort()\n",
        "\n",
        "# 길이가 l인 암호조합 확인\n",
        "for password in combinations(array, l):\n",
        "  # 패스워드에 포함된 모음 개수 세기\n",
        "  count = 0\n",
        "  for i in password:\n",
        "    if i in vowels:\n",
        "      count += 1\n",
        "  \n",
        "  # 최소 1개의 모음과 최소 2개의 자음이 있는 경우 출력\n",
        "  if count >= 1 and count <= l-2:\n",
        "    print(''.join(password))"
      ],
      "metadata": {
        "id": "0Rzl1CxyjWuE"
      },
      "execution_count": null,
      "outputs": []
    },
    {
      "cell_type": "code",
      "source": [],
      "metadata": {
        "id": "5qDK2LoSjWwN"
      },
      "execution_count": null,
      "outputs": []
    }
  ],
  "metadata": {
    "colab": {
      "collapsed_sections": [],
      "name": "Colaboratory에 오신 것을 환영합니다",
      "provenance": [],
      "include_colab_link": true
    },
    "kernelspec": {
      "display_name": "Python 3",
      "name": "python3"
    }
  },
  "nbformat": 4,
  "nbformat_minor": 0
}