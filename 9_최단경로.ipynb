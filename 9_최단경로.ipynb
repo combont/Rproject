{
  "cells": [
    {
      "cell_type": "markdown",
      "metadata": {
        "id": "view-in-github",
        "colab_type": "text"
      },
      "source": [
        "<a href=\"https://colab.research.google.com/github/combont/Rproject/blob/master/9_%EC%B5%9C%EB%8B%A8%EA%B2%BD%EB%A1%9C.ipynb\" target=\"_parent\"><img src=\"https://colab.research.google.com/assets/colab-badge.svg\" alt=\"Open In Colab\"/></a>"
      ]
    },
    {
      "cell_type": "code",
      "source": [
        "# 9. 최단 경로"
      ],
      "metadata": {
        "id": "ezW5xM57jmg6"
      },
      "execution_count": null,
      "outputs": []
    },
    {
      "cell_type": "code",
      "source": [
        "# 다익스트라\n",
        "## 음의 간선이 없을 때\n",
        "## 출발 노드 설정 > 최단 거리 테이블 초기화 > 방문하지 않은 노드 중 최단 거리가 가장짧은 노드 선택\n",
        "## > 최단거리 테이블 갱신"
      ],
      "metadata": {
        "id": "6DmchlKmIGou"
      },
      "execution_count": null,
      "outputs": []
    },
    {
      "cell_type": "code",
      "source": [
        "# 힙 자료구조 사용\n",
        "# 우선순위 큐 구현 시 힙 사용(최소값이 먼저 삭제, 최대값이 먼저 삭제)\n",
        "# 우선순위 큐를 이용해서 시작 노드로부터 거리가 짧은 노드 순서대로 큐에서 나올 수 있도록 다익스트라 작성\n",
        "# 현재 가장 가까운 노드를 작성하기 위한 목적으로 우선순위 큐 추가로 이용"
      ],
      "metadata": {
        "id": "91vCFW4DIGmf"
      },
      "execution_count": null,
      "outputs": []
    },
    {
      "cell_type": "code",
      "source": [
        "import heapq\n",
        "\n",
        "INF = int(1e9) # 무한을 의미하는 10억\n",
        "\n",
        "# 노드 개수 n, 간선 개수 m, 시작 노드번호 start, 간선정보 리스트 graph\n",
        "def solution(n, m, start, graph):\n",
        "\n",
        "  # 최단거리 테이블을 무한으로 초기화\n",
        "  distance = [INF] * (n+1)\n",
        "\n",
        "  def dijkstra(start):\n",
        "    q = []\n",
        "\n",
        "    # 시작 노드의 최단 경로는 0으로 설정하여 큐에 삽입\n",
        "    heapq.heappush(q, (0,start))\n",
        "    distance[start] = 0\n",
        "    \n",
        "    # 큐가 비어있지 않다면\n",
        "    while q:\n",
        "      # 최단거리가 가장 짧은 노드 꺼내기\n",
        "      dist, now = heapq.heappop(q)\n",
        "\n",
        "      # 현재 노드가 이미 처리된 적이 있는 노드면 무시\n",
        "      if distance[now] < dist:\n",
        "        continue\n",
        "      \n",
        "      # 현재 노드와 연결된 다른 인접노드 확인\n",
        "      for i in graph[now]:\n",
        "        cost = dist + i[1]\n",
        "        # 현재 노드를 거쳐, 다른 노드로 이동하는 거리가 더 짧은 경우\n",
        "        if cost < distance[i[0]]:\n",
        "          distance[i[0]] = cost\n",
        "          heapq.heappush(q, (cost, i[0]))\n",
        "\n",
        "  \n",
        "  # 다익스트라 알고리즘 수행\n",
        "  dijkstra(start)\n",
        "\n",
        "  return distance\n"
      ],
      "metadata": {
        "id": "1dzJGA1cIGkZ"
      },
      "execution_count": null,
      "outputs": []
    },
    {
      "cell_type": "code",
      "source": [],
      "metadata": {
        "id": "HhSU2bPfIGiX"
      },
      "execution_count": null,
      "outputs": []
    },
    {
      "cell_type": "code",
      "source": [
        "# 플로이드 워셜 알고리즘\n",
        "## 다익스트라는 한 지점에서 다른 특정 지점까지의 최단 경로\n",
        "## 플로이드 워셜은 모든 지점에서 다른 모든 지점까지의 최단 경로\n",
        "## 2차원 리스트에 최단 거리 정보 저장\n",
        "INF = int(1e9)\n",
        "\n",
        "# 노드 수 n, 간선 수 m, 각 간선에 대한 비용 정보 2차원 리스트 graph\n",
        "def solution(n, m, graph):\n",
        "  # 점화식에 따라 플로이드 워셜 알고리즘 수행\n",
        "  for k in range(1, n+1):\n",
        "    for a in range(1, n+1):\n",
        "      for b in range(1, n+1):\n",
        "        graph[a][b] = min(graph[a][b], graph[a][k] + graph[k][b])\n",
        "\n",
        "  return graph"
      ],
      "metadata": {
        "id": "VsFgN4mRIGgJ"
      },
      "execution_count": null,
      "outputs": []
    },
    {
      "cell_type": "code",
      "source": [],
      "metadata": {
        "id": "JdhAZdUtIGeF"
      },
      "execution_count": null,
      "outputs": []
    },
    {
      "cell_type": "code",
      "source": [
        "# 미래도시\n",
        "## 판매원이 K번 회사를 거쳐 X번 회사로 가능 최소 이동시간\n",
        "## 1번에서 K까지 최단거리 + K에서 X까지 최단 거리\n",
        "INF = int(1e9)\n",
        "\n",
        "def solution(n, m, graph, x, k):\n",
        "  # 플로이드 워셜 알고리즘\n",
        "  for k in range(n, n+1):\n",
        "    for a in range(n, n+1):\n",
        "      for b in range(n, n+1):\n",
        "        graph[a][b] = min(graph[a][b], graph[a][k] + graph[k][b])\n",
        "\n",
        "  distance = graph[1][k] + graph[k][x]\n",
        "\n",
        "  return distance"
      ],
      "metadata": {
        "id": "O6XvM3GEIGbx"
      },
      "execution_count": null,
      "outputs": []
    },
    {
      "cell_type": "code",
      "source": [],
      "metadata": {
        "id": "uMJuPjahUV5v"
      },
      "execution_count": null,
      "outputs": []
    },
    {
      "cell_type": "code",
      "source": [
        "# 전보\n",
        "## 도시 개수 N, 통로 개수 M, 메시지 출발지 C, 경로에 대한 정보\n",
        "## 도시 C에서 보낸 메시지를 받는 도시의 총 개수와 걸리는 시간\n",
        "## >> 한 도시에서 다른 도시까지의 최단거리 문제 >> 다익스트라 알고리즘\n",
        "import heapq\n",
        "INF = int(1e9)\n",
        "\n",
        "def solution(n, m, start, graph):\n",
        "  distance = [INF] * (n+1)\n",
        "\n",
        "  def dijkstra(start):\n",
        "    q=[]\n",
        "\n",
        "    # 시작 노드 경로는 0으로 설정하여 큐에 삽입\n",
        "    heapq.heappush(q, (0, start))\n",
        "    distance[start] = 0\n",
        "\n",
        "    # 큐가 비어있지 않다면\n",
        "    while q:\n",
        "      # 가장 짧은 노드 꺼내기\n",
        "      dist, now = heapq.heappop(q)\n",
        "      if distance[now] < dist:\n",
        "        continue\n",
        "      \n",
        "      # 현재 노드와 인접한 노드 확인\n",
        "      for i in graph[now]:\n",
        "        cost = dist + i[1]\n",
        "\n",
        "        # 현재 노드를 거쳐, 다른노드로 이동하는 거리가 더 짧은경우\n",
        "        if cost < distance[i[0]]:\n",
        "          distance[i[0]] = cost\n",
        "          heapq.heappush(q, (cost, i[0]))\n",
        "\n",
        "  dijkstra(start)\n",
        "\n",
        "  # 도달할 수 있는 노드의 개수\n",
        "  count = 0\n",
        "\n",
        "  # 도달할 수 있는 노드 중에서, 가장 멀리 있는 노드와 최단거리\n",
        "  max_distance = 0\n",
        "  for d in distance:\n",
        "    if d != INF:\n",
        "      count += 1\n",
        "      max_distance = max(max_distance, d)\n",
        "\n",
        "  # 시작노드는 제외하고 count-1\n",
        "  return count-1, max_distance\n"
      ],
      "metadata": {
        "id": "488lxW2XUV3d"
      },
      "execution_count": null,
      "outputs": []
    },
    {
      "cell_type": "code",
      "source": [],
      "metadata": {
        "id": "aSE25PLCUV1C"
      },
      "execution_count": null,
      "outputs": []
    },
    {
      "cell_type": "code",
      "source": [],
      "metadata": {
        "id": "24KQcyCtUVyK"
      },
      "execution_count": null,
      "outputs": []
    }
  ],
  "metadata": {
    "colab": {
      "collapsed_sections": [],
      "name": "Colaboratory에 오신 것을 환영합니다",
      "provenance": [],
      "include_colab_link": true
    },
    "kernelspec": {
      "display_name": "Python 3",
      "name": "python3"
    }
  },
  "nbformat": 4,
  "nbformat_minor": 0
}