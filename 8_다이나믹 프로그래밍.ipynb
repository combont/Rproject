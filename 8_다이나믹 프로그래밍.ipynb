{
  "cells": [
    {
      "cell_type": "markdown",
      "metadata": {
        "id": "view-in-github",
        "colab_type": "text"
      },
      "source": [
        "<a href=\"https://colab.research.google.com/github/combont/Rproject/blob/master/8_%EB%8B%A4%EC%9D%B4%EB%82%98%EB%AF%B9%20%ED%94%84%EB%A1%9C%EA%B7%B8%EB%9E%98%EB%B0%8D.ipynb\" target=\"_parent\"><img src=\"https://colab.research.google.com/assets/colab-badge.svg\" alt=\"Open In Colab\"/></a>"
      ]
    },
    {
      "cell_type": "code",
      "source": [
        "# 8. 다이나믹 프로그래밍\n",
        "## 한 번 계산한 문제는 다시 계산하지 않도록 하는 알고리즘"
      ],
      "metadata": {
        "id": "93Med2J-HtAs"
      },
      "execution_count": null,
      "outputs": []
    },
    {
      "cell_type": "code",
      "source": [
        "# n이 커질수록 수행 시간이 기하급수적으로 늘어나는 경우\n",
        "# ex: 피보나치 수열\n",
        "def fibo(x):\n",
        "  if x==1 or x==2:\n",
        "    return 1\n",
        "  return fibo(x-1) + fibo(x-2)"
      ],
      "metadata": {
        "id": "ktcwEwXeHs-E"
      },
      "execution_count": null,
      "outputs": []
    },
    {
      "cell_type": "code",
      "source": [
        "# 다이나믹 프로그래밍 사용가능 조건\n",
        "## 1. 큰 문제를 작은 문제로 나눌 수 있다\n",
        "## 2. 작은 문제에서 구한 정답은 그것을 포함하는 큰 문제에서도 동일하다"
      ],
      "metadata": {
        "id": "u-r10bc8Hs7T"
      },
      "execution_count": null,
      "outputs": []
    },
    {
      "cell_type": "code",
      "source": [
        "## 메모제이션 기법 : 한 번 구한 결과를 메모리 공간에 메모해두고\n",
        "## 같은 식을 다시 호출하면 메모한 결과를 그대로 가져오는 기법\n",
        "## 여기서는 한 번 구한 정보를 리스트에 저장하고 \n",
        "## 프로그래밍을 재귀적으로 수행하다가 같은 정보가 필요할 때 정답을 리스트로 가져옴"
      ],
      "metadata": {
        "id": "MYg9kLhiHs37"
      },
      "execution_count": null,
      "outputs": []
    },
    {
      "cell_type": "code",
      "source": [
        "# 한 번 계산된 결과를 메모제이션 하기 위한 리스트 초기화\n",
        "d = [0] * 100\n",
        "\n",
        "# 피보나치 함수를 재귀함수로 구현(탑다운 다이나믹 프로그래밍)\n",
        "def fibo(x):\n",
        "  if x == 1 or x == 2:\n",
        "    return 1\n",
        "\n",
        "  # 이미 계산한 적 있는 문제라면 그대로 반환\n",
        "  if d[x] != 0:\n",
        "    return d[x]\n",
        "\n",
        "  # 아직 계산하지 않은 문제는 피보나치 결과 반환\n",
        "  d[x] = fibo(x-1) + fibo(x-2)\n",
        "  return d[x]"
      ],
      "metadata": {
        "id": "MBARpTGNI3xK"
      },
      "execution_count": null,
      "outputs": []
    },
    {
      "cell_type": "code",
      "source": [],
      "metadata": {
        "id": "9QJPU2WnI3vM"
      },
      "execution_count": null,
      "outputs": []
    },
    {
      "cell_type": "code",
      "source": [
        "# 보텀업 다이나믹 프로그래밍(작은 문제부터 차근차근 답 도출)\n",
        "d = [0] * 100\n",
        "\n",
        "def fibo(x):\n",
        "  d[1] = 1\n",
        "  d[2] = 1\n",
        "  \n",
        "  for i in range(3, x+1):\n",
        "    d[i] = d[i-1] + d[i-2]\n",
        "  \n",
        "  return d[x]\n"
      ],
      "metadata": {
        "id": "xHZMN8ESI3tH"
      },
      "execution_count": null,
      "outputs": []
    },
    {
      "cell_type": "code",
      "source": [],
      "metadata": {
        "id": "LblhMmcjI3q9"
      },
      "execution_count": null,
      "outputs": []
    },
    {
      "cell_type": "code",
      "source": [
        "# 실전문제"
      ],
      "metadata": {
        "id": "qpVXmFSJKsvw"
      },
      "execution_count": null,
      "outputs": []
    },
    {
      "cell_type": "code",
      "source": [
        "# 1로 만들기\n",
        "## 정수 X가 주어졌을 때\n",
        "## X가 5로 나누어떨어지면 5로 나눈다\n",
        "## X가 3으로 나누어 떨어지면 3으로 나눈다\n",
        "## X가 2로 나누어 떨어지면 2로 나눈다\n",
        "## X에서 1을 뺀다\n",
        "## 위 4개 연산을 이용해서1을 만들 때 사용하는 횟수의 최솟값"
      ],
      "metadata": {
        "id": "oKST80--I3ox"
      },
      "execution_count": null,
      "outputs": []
    },
    {
      "cell_type": "code",
      "source": [
        "def solution(x):\n",
        "  # 계산된결과를 저장하기 위한 DP 테이블 초기화\n",
        "  d = [0] * 30001\n",
        "\n",
        "  # 다이나믹 프로그래밍(보텀업)\n",
        "  for i in range(2, x+1):\n",
        "    # 현재 수에서 1을 빼는 경우 (+1은 함수의 호출 횟수를 구하기 위해)\n",
        "    d[i] = d[i-1] + 1\n",
        "\n",
        "    # 현재의 수가 2로 나누어 떨어지는 경우\n",
        "    if i % 2 == 0:\n",
        "      d[i] = min(d[i], d[i//2] + 1)\n",
        "    # 현재의 수가 3으로 나누어 떨어지는 경우\n",
        "    if i % 3 == 0:\n",
        "      d[i] = min(d[i], d[i//3] + 1)\n",
        "    # 현재의 수가 5로 나누어 떨어지는 경우\n",
        "    if i % 5 == 0:\n",
        "      d[i] = min(d[i], d[i//5] + 1)\n",
        "    \n",
        "    return d[x]"
      ],
      "metadata": {
        "id": "Cq3lSnhiI3mJ"
      },
      "execution_count": null,
      "outputs": []
    },
    {
      "cell_type": "code",
      "source": [],
      "metadata": {
        "id": "bNEMuPhQI3jL"
      },
      "execution_count": null,
      "outputs": []
    },
    {
      "cell_type": "code",
      "source": [
        "# 개미전사\n",
        "\n",
        "## 왼쪽부터 차례대로 식량창고를 털지 안 털지 결정하는 경우와\n",
        "## 특정한 i번째 식량창고에 대해 털지 안 털지 여부를 결정할 때\n",
        "## 아래 2가지 경우만 확인하면 된다"
      ],
      "metadata": {
        "id": "gWajWPhzI3go"
      },
      "execution_count": null,
      "outputs": []
    },
    {
      "cell_type": "code",
      "source": [
        "## i-1 번째 식량창고를 털기로 결정한 경우 현재 식량창고를 털 수 없다\n",
        "## i-2 번째 식량창고를 털기로 결정한 경우 현재의 식량창고를 털 수 있다\n",
        "## 위 두가지 경우 중 더 많은 식량을 털 수 있는 경우를 선택\n",
        "## 점화식 a(i) = max(a(i-1), a(i-2)+k), k는 i번째 식량창고에 있는 식량의 양"
      ],
      "metadata": {
        "id": "g_SxOpZHQcqt"
      },
      "execution_count": null,
      "outputs": []
    },
    {
      "cell_type": "code",
      "source": [
        "## 입력 : 식량창고 개수 n, 식량창고에 저장된 식량의 개수 리스트 k\n",
        "def solution(n, array):\n",
        "  # dp 테이블 초기화\n",
        "  d = [0] * 100\n",
        "\n",
        "  # 다이나믹 프로그래밍(보텀업)\n",
        "  d[0] = array[0]\n",
        "  d[1] = max(array[0], array[1])\n",
        "  for i in range(2, n):\n",
        "    d[i] = max(d[i-1], d[i-2] + array[i])\n",
        "\n",
        "  return d[n-1]\n",
        "\n",
        "225p"
      ],
      "metadata": {
        "id": "eUdktiazQcx7"
      },
      "execution_count": null,
      "outputs": []
    },
    {
      "cell_type": "code",
      "source": [],
      "metadata": {
        "id": "AXeAdXxAQc0U"
      },
      "execution_count": null,
      "outputs": []
    },
    {
      "cell_type": "code",
      "source": [],
      "metadata": {
        "id": "BsqbyVWCQc2b"
      },
      "execution_count": null,
      "outputs": []
    }
  ],
  "metadata": {
    "colab": {
      "collapsed_sections": [],
      "name": "Colaboratory에 오신 것을 환영합니다",
      "toc_visible": true,
      "provenance": [],
      "include_colab_link": true
    },
    "kernelspec": {
      "display_name": "Python 3",
      "name": "python3"
    }
  },
  "nbformat": 4,
  "nbformat_minor": 0
}